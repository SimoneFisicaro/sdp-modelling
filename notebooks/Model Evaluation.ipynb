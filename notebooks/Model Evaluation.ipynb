{
 "cells": [
  {
   "cell_type": "code",
   "execution_count": 30,
   "metadata": {},
   "outputs": [],
   "source": [
    "import mlflow\n",
    "import mlflow.keras\n",
    "from keras.preprocessing.image import ImageDataGenerator\n",
    "\n",
    "import numpy as np\n",
    "import pandas as pd\n",
    "import seaborn as sns\n",
    "import matplotlib.pyplot as plt\n",
    "\n",
    "from sklearn.metrics import confusion_matrix, accuracy_score, roc_curve, auc\n",
    "\n",
    "import warnings\n",
    "warnings.filterwarnings('ignore')"
   ]
  },
  {
   "cell_type": "code",
   "execution_count": 31,
   "metadata": {},
   "outputs": [
    {
     "name": "stderr",
     "output_type": "stream",
     "text": [
      "WARNING:root:Malformed experiment 'mlruns'. Detailed error Yaml file '/Users/simone/mlflow_tracking/mlruns/meta.yaml' does not exist.\n",
      "Traceback (most recent call last):\n",
      "  File \"/Users/simone/miniconda3/envs/sdp-modelling/lib/python3.6/site-packages/mlflow/store/file_store.py\", line 193, in list_experiments\n",
      "    experiment = self._get_experiment(exp_id, view_type)\n",
      "  File \"/Users/simone/miniconda3/envs/sdp-modelling/lib/python3.6/site-packages/mlflow/store/file_store.py\", line 247, in _get_experiment\n",
      "    meta = read_yaml(experiment_dir, FileStore.META_DATA_FILE_NAME)\n",
      "  File \"/Users/simone/miniconda3/envs/sdp-modelling/lib/python3.6/site-packages/mlflow/utils/file_utils.py\", line 159, in read_yaml\n",
      "    raise MissingConfigException(\"Yaml file '%s' does not exist.\" % file_path)\n",
      "mlflow.exceptions.MissingConfigException: Yaml file '/Users/simone/mlflow_tracking/mlruns/meta.yaml' does not exist.\n",
      "WARNING:root:Malformed experiment 'temp_dir'. Detailed error Yaml file '/Users/simone/mlflow_tracking/temp_dir/meta.yaml' does not exist.\n",
      "Traceback (most recent call last):\n",
      "  File \"/Users/simone/miniconda3/envs/sdp-modelling/lib/python3.6/site-packages/mlflow/store/file_store.py\", line 193, in list_experiments\n",
      "    experiment = self._get_experiment(exp_id, view_type)\n",
      "  File \"/Users/simone/miniconda3/envs/sdp-modelling/lib/python3.6/site-packages/mlflow/store/file_store.py\", line 247, in _get_experiment\n",
      "    meta = read_yaml(experiment_dir, FileStore.META_DATA_FILE_NAME)\n",
      "  File \"/Users/simone/miniconda3/envs/sdp-modelling/lib/python3.6/site-packages/mlflow/utils/file_utils.py\", line 159, in read_yaml\n",
      "    raise MissingConfigException(\"Yaml file '%s' does not exist.\" % file_path)\n",
      "mlflow.exceptions.MissingConfigException: Yaml file '/Users/simone/mlflow_tracking/temp_dir/meta.yaml' does not exist.\n"
     ]
    }
   ],
   "source": [
    "# data\n",
    "root_path = \"/Users/simone/Google Drive/UNISTI/master project/data/dataset2/rgb/\"\n",
    "    \n",
    "# mlflow\n",
    "tracking_uri = \"file:///Users/simone/mlflow_tracking\"\n",
    "experiment = 'sdp'\n",
    "\n",
    "mlflow.set_tracking_uri(tracking_uri)\n",
    "mlflow.set_experiment(experiment)"
   ]
  },
  {
   "cell_type": "code",
   "execution_count": 14,
   "metadata": {},
   "outputs": [],
   "source": [
    "def evaluate_generator(model, generator):\n",
    "    loss, acc = model.evaluate_generator(generator=generator, steps=len(generator), verbose=1)\n",
    "    print(\"Loss value {} and Accuracy value {}\".format(loss, acc))\n",
    "    \n",
    "def predict_generator(model, generator):\n",
    "    generator.reset()\n",
    "    pred = model.predict_generator(generator, steps=len(generator), verbose=1)\n",
    "    \n",
    "    predicted_class_indices = np.argmax(pred, axis=1)\n",
    "\n",
    "    diplay_confusion_matrix(test_generator.classes, predicted_class_indices, test_generator.class_indices)\n",
    "    display_roc(test_generator.classes, predicted_class_indices)\n",
    "    \n",
    "    generator.reset()\n",
    "    \n",
    "def diplay_confusion_matrix(y_test, y_pred, classes):\n",
    "    cm = confusion_matrix(y_test, y_pred)\n",
    "    cm_df = pd.DataFrame(cm, index=classes, columns=classes)\n",
    "\n",
    "    plt.figure(figsize=(5.5, 4))\n",
    "    fig = sns.heatmap(cm_df, annot=True)\n",
    "    plt.title(' \\nAccuracy:{0:.3f}'.format(accuracy_score(y_test, y_pred)))\n",
    "    plt.ylabel('True label')\n",
    "    plt.xlabel('Predicted label')\n",
    "    plt.show()\n",
    "\n",
    "    return fig\n",
    "\n",
    "def display_roc(y_test, y_pred):\n",
    "    fpr, tpr, thresholds = roc_curve(y_test, y_pred)\n",
    "    auc_val = auc(fpr, tpr)\n",
    "\n",
    "    fig, ax = plt.subplots()\n",
    "    plt.figure(1)\n",
    "    plt.plot([0, 1], [0, 1], 'k--')\n",
    "    plt.plot(fpr, tpr, label='Model (area = {:.3f})'.format(auc_val))\n",
    "    plt.xlabel('FPR')\n",
    "    plt.ylabel('TPR')\n",
    "    plt.title('ROC curve')\n",
    "    plt.legend(loc='best')\n",
    "    plt.show()\n",
    "\n",
    "    return fig\n",
    "    \n",
    "def create_generators(data_root):\n",
    "    gen = ImageDataGenerator(rescale=1./255)\n",
    "    generator = gen.flow_from_directory(\n",
    "        data_root + 'test/',\n",
    "        target_size=(244, 244),\n",
    "        color_mode='rgb',\n",
    "        shuffle=False,\n",
    "        batch_size=1,\n",
    "        class_mode='categorical',\n",
    "        seed=1)\n",
    "\n",
    "    return generator"
   ]
  },
  {
   "cell_type": "code",
   "execution_count": 32,
   "metadata": {},
   "outputs": [],
   "source": [
    "vgg16_experiment_id = \"cc4da1659b2d44d2b6661758141fd7dc\"\n",
    "vgg16_model = mlflow.keras.load_model(\"runs:/{0}/model\".format(vgg16_experiment_id))"
   ]
  },
  {
   "cell_type": "markdown",
   "metadata": {},
   "source": [
    "# Evaluation"
   ]
  },
  {
   "cell_type": "code",
   "execution_count": 33,
   "metadata": {},
   "outputs": [
    {
     "name": "stdout",
     "output_type": "stream",
     "text": [
      "Found 54 images belonging to 2 classes.\n"
     ]
    }
   ],
   "source": [
    "test_generator = create_generators(root_path)"
   ]
  },
  {
   "cell_type": "code",
   "execution_count": 34,
   "metadata": {},
   "outputs": [
    {
     "name": "stdout",
     "output_type": "stream",
     "text": [
      "54/54 [==============================] - 108s 2s/step\n",
      "Loss value 0.5969671386335365 and Accuracy value 0.9629629629629629\n"
     ]
    }
   ],
   "source": [
    "evaluate_generator(vgg16_model, test_generator)"
   ]
  },
  {
   "cell_type": "code",
   "execution_count": 35,
   "metadata": {},
   "outputs": [
    {
     "name": "stdout",
     "output_type": "stream",
     "text": [
      "54/54 [==============================] - 91s 2s/step\n"
     ]
    },
    {
     "data": {
      "image/png": "[encoded data removed]",
      "text/plain": [
       "<Figure size 396x288 with 2 Axes>"
      ]
     },
     "metadata": {
      "needs_background": "light"
     },
     "output_type": "display_data"
    },
    {
     "data": {
      "image/png": "[encoded data removed]",
      "text/plain": [
       "<Figure size 432x288 with 1 Axes>"
      ]
     },
     "metadata": {
      "needs_background": "light"
     },
     "output_type": "display_data"
    }
   ],
   "source": [
    "predict_generator(vgg16_model, test_generator)"
   ]
  },
  {
   "cell_type": "markdown",
   "metadata": {},
   "source": [
    "# Heatmap"
   ]
  },
  {
   "cell_type": "code",
   "execution_count": 40,
   "metadata": {},
   "outputs": [],
   "source": [
    "smoke_image = root_path + 'test/smoke/cjxhyld313qp10848ql2oq7gp_smoke_0.png'"
   ]
  },
  {
   "cell_type": "code",
   "execution_count": 41,
   "metadata": {},
   "outputs": [
    {
     "data": {
      "image/png": "[encoded data removed]",
      "text/plain": [
       "<Figure size 288x288 with 1 Axes>"
      ]
     },
     "metadata": {
      "needs_background": "light"
     },
     "output_type": "display_data"
    }
   ],
   "source": [
    "from keras.preprocessing import image\n",
    "from keras.applications.vgg16 import preprocess_input, decode_predictions\n",
    "import numpy as np\n",
    "from keras import backend as K\n",
    "\n",
    "img = image.load_img(smoke_image, target_size=(244, 244))\n",
    "x = image.img_to_array(img)\n",
    "x = np.expand_dims(x, axis=0)\n",
    "x = preprocess_input(x)\n",
    "\n",
    "output = vgg16_model.output[:, 0]\n",
    "last_conv_layer = vgg16_model.get_layer('block5_conv3')\n",
    "grads = K.gradients(output, last_conv_layer.output)[0]\n",
    "pooled_grads = K.mean(grads, axis=(0, 1, 2))\n",
    "iterate = K.function([vgg16_model.input], [pooled_grads, last_conv_layer.output[0]])\n",
    "pooled_grads_value, conv_layer_output_value = iterate([x])\n",
    "\n",
    "for i in range(512):\n",
    "    conv_layer_output_value[:, :, i] *= pooled_grads_value[i]\n",
    "\n",
    "heatmap = np.mean(conv_layer_output_value, axis=-1)\n",
    "\n",
    "heatmap = np.maximum(heatmap, 0)\n",
    "heatmap /= np.max(heatmap)\n",
    "plt.matshow(heatmap)\n",
    "plt.show()"
   ]
  },
  {
   "cell_type": "code",
   "execution_count": 48,
   "metadata": {},
   "outputs": [
    {
     "data": {
      "text/plain": [
       "<tf.Tensor 'gradients_4/block5_pool_4/MaxPool_grad/MaxPoolGrad:0' shape=(?, 15, 15, 512) dtype=float32>"
      ]
     },
     "execution_count": 48,
     "metadata": {},
     "output_type": "execute_result"
    }
   ],
   "source": [
    "grads"
   ]
  },
  {
   "cell_type": "code",
   "execution_count": null,
   "metadata": {},
   "outputs": [],
   "source": []
  },
  {
   "cell_type": "code",
   "execution_count": null,
   "metadata": {},
   "outputs": [],
   "source": []
  }
 ],
 "metadata": {
  "kernelspec": {
   "display_name": "Python 3",
   "language": "python",
   "name": "python3"
  },
  "language_info": {
   "codemirror_mode": {
    "name": "ipython",
    "version": 3
   },
   "file_extension": ".py",
   "mimetype": "text/x-python",
   "name": "python",
   "nbconvert_exporter": "python",
   "pygments_lexer": "ipython3",
   "version": "3.6.9"
  }
 },
 "nbformat": 4,
 "nbformat_minor": 2
}
